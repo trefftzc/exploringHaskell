{
 "cells": [
  {
   "cell_type": "code",
   "execution_count": null,
   "id": "a2d7aca8-bab8-4f1d-8ddd-4fa527c38ca6",
   "metadata": {},
   "outputs": [],
   "source": [
    "## A first notebook to explore Haskell\n",
    "This first examples are taken from:\n",
    "\n",
    "https://learnyouahaskell.com/chapters\n",
    "\n",
    "<a href=\"https://mybinder.org/v2/gh/trefftzc/exploringHaskell/HEAD?urlpath=%2Fdoc%2Ftree%2FFirstHaskellNotebook.ipynb\">\n",
    "<img src=\"https://mybinder.org/badge_log.svg\" alt=\"Binder\">\n",
    "</a> == $0"
   ]
  },
  {
   "cell_type": "code",
   "execution_count": null,
   "id": "600dae98",
   "metadata": {
    "vscode": {
     "languageId": "plaintext"
    }
   },
   "outputs": [],
   "source": [
    "2 + 2"
   ]
  },
  {
   "cell_type": "code",
   "execution_count": null,
   "id": "70a7c575-d612-43bc-a539-c083807b1e8d",
   "metadata": {
    "tags": []
   },
   "outputs": [
    {
     "data": {
      "text/plain": [
       "9"
      ]
     },
     "metadata": {},
     "output_type": "display_data"
    }
   ],
   "source": [
    "min 9 10"
   ]
  },
  {
   "cell_type": "code",
   "execution_count": 10,
   "id": "c5af4509-e00f-4e85-8e72-9318fcc31d78",
   "metadata": {
    "tags": []
   },
   "outputs": [],
   "source": [
    "doubleMe x = x + x"
   ]
  },
  {
   "cell_type": "code",
   "execution_count": null,
   "id": "c051ff66-9b49-400e-bd6f-3006ab1a8307",
   "metadata": {
    "tags": []
   },
   "outputs": [
    {
     "data": {
      "text/plain": [
       "2.0"
      ]
     },
     "metadata": {},
     "output_type": "display_data"
    }
   ],
   "source": [
    "doubleMe 1.0"
   ]
  },
  {
   "cell_type": "code",
   "execution_count": 9,
   "id": "171710b7-1376-45fb-a842-5263df9c2d46",
   "metadata": {
    "tags": []
   },
   "outputs": [
    {
     "data": {
      "text/plain": [
       "\"ABC\""
      ]
     },
     "metadata": {},
     "output_type": "display_data"
    }
   ],
   "source": [
    "removeNonUppercase \"ABCdef\""
   ]
  },
  {
   "cell_type": "code",
   "execution_count": 3,
   "id": "6f63575e-f64e-4c04-b1d8-2064c8483f53",
   "metadata": {
    "tags": []
   },
   "outputs": [],
   "source": [
    "let list = [1,2,3,4]"
   ]
  },
  {
   "cell_type": "code",
   "execution_count": 4,
   "id": "d658e504-96a1-4385-b483-a4ea7b6f6853",
   "metadata": {
    "tags": []
   },
   "outputs": [
    {
     "data": {
      "text/plain": [
       "[1,2,3,4]"
      ]
     },
     "metadata": {},
     "output_type": "display_data"
    }
   ],
   "source": [
    "list"
   ]
  },
  {
   "cell_type": "code",
   "execution_count": 5,
   "id": "f177ff62-1ee7-40d2-b471-f4dc92fc28a1",
   "metadata": {
    "tags": []
   },
   "outputs": [
    {
     "data": {
      "text/plain": [
       "[1,2,3,4,5,6,7,8,9,10,11,12,13,14,15,16,17,18,19,20]"
      ]
     },
     "metadata": {},
     "output_type": "display_data"
    }
   ],
   "source": [
    "[1..20]"
   ]
  },
  {
   "cell_type": "code",
   "execution_count": 7,
   "id": "1214533f-6485-4a42-bfe9-71d8ae3dc11b",
   "metadata": {
    "tags": []
   },
   "outputs": [
    {
     "data": {
      "text/plain": [
       "[104,118,132,146,160,174,188]"
      ]
     },
     "metadata": {},
     "output_type": "display_data"
    }
   ],
   "source": [
    "[x*2 | x <- [50..100], x `mod` 7 == 3]"
   ]
  },
  {
   "cell_type": "code",
   "execution_count": 8,
   "id": "44e3ac9b-9464-4f2a-8efc-a771924cbade",
   "metadata": {
    "tags": []
   },
   "outputs": [],
   "source": [
    "removeNonUppercase st = [ c | c <- st, c `elem` ['A'..'Z']]"
   ]
  }
 ],
 "metadata": {
  "kernelspec": {
   "display_name": "Haskell",
   "language": "haskell",
   "name": "haskell"
  },
  "language_info": {
   "codemirror_mode": "ihaskell",
   "file_extension": ".hs",
   "mimetype": "text/x-haskell",
   "name": "haskell",
   "pygments_lexer": "Haskell",
   "version": "9.6.4"
  }
 },
 "nbformat": 4,
 "nbformat_minor": 5
}
